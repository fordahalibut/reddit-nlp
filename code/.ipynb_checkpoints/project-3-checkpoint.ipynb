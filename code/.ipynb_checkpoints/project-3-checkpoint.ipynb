{
 "cells": [
  {
   "attachments": {},
   "cell_type": "markdown",
   "metadata": {},
   "source": [
    "# Natural Language Processing - A Reddit study\n",
    "## Problem\n",
    "With approximately 14,000 reddit post titles and accompanying text, can we use natural language processing to build a classification model that will accurately predict whether the post was made by a bot?\n",
    "## Executive Summary\n",
    "- Logistic Regression performed the best, achieving 98% accuracy on training data and 94% accuracy on unseen data.\n",
    "- The final parameters used Lasso Regularization with a regularization strength of 0.5\n",
    "- Vectorization was achieved using CountVectorizer with RegEx tokenization.\n",
    "\n",
    "The very high accuracy of the model implies that we can quite easily distinguish between these two subreddits using only bag of words methods. Upon reflection, perhaps `AskReddit` isn't as good of a stand-in for a general topic forum as hoped. \n",
    "\n",
    "Given more time, I would instead take a sampling of each individual subreddit that `SubredditSimulator` pulls from, to get a more equivalent corpus of words.\n",
    "## Contents\n",
    "1. [Importing Libraries](#1.-Importing-libraries)\n",
    "2. [Function to scrape current reddit data through the API](#2.-Function-to-scrape-current-reddit-data-through-the-API)\n",
    "3. [Function to scrape historical data](#3.-Function-to-scrape-historical-data)\n",
    "4. [Gathering data](#4.-Gathering-data)\n",
    "5. [EDA and clean up](#5.-EDA-and-clean-up)\n",
    "6. [Model selection and evaluation](#6.-Model-selection-and-evaluation)\n",
    "7. [Feature correlations](#7.-Feature-correlations)\n",
    "8. [Word Cloud representations using Tableau](#8.-Word-Cloud-representations-using-Tableau)\n",
    "9. [Investigating occurence of common stop words in each subreddit](#9.-Investigating-occurence-of-common-stop-words-in-each-subreddit)\n",
    "10. [Conclusion](#10.-Conclusion)\n",
    "\n",
    "## Data\n",
    "Sources: \n",
    "- [SubredditSimulator](https://www.reddit.com/r/SubredditSimulator)\n",
    "- [AskReddit](https://www.reddit.com/r/AskReddit)\n",
    "- [Pushshift.io API](https://github.com/pushshift/api)"
   ]
  },
  {
   "cell_type": "markdown",
   "metadata": {},
   "source": [
    "### 1. Importing libraries"
   ]
  },
  {
   "cell_type": "code",
   "execution_count": 1,
   "metadata": {},
   "outputs": [],
   "source": [
    "# Web scraping libraries\n",
    "import requests\n",
    "from time import sleep\n",
    "from bs4 import BeautifulSoup\n",
    "\n",
    "# EDA libraries\n",
    "import pandas as pd\n",
    "import numpy as np\n",
    "import matplotlib.pyplot as plt\n",
    "import seaborn as sns\n",
    "%matplotlib inline\n",
    "\n",
    "# sklearn\n",
    "from sklearn.preprocessing import MaxAbsScaler\n",
    "from sklearn.model_selection import train_test_split, GridSearchCV\n",
    "from sklearn.feature_extraction.text import CountVectorizer, TfidfVectorizer\n",
    "from sklearn.pipeline import Pipeline, make_pipeline\n",
    "from sklearn.naive_bayes import MultinomialNB\n",
    "from sklearn.linear_model import LogisticRegression\n",
    "from sklearn.preprocessing import FunctionTransformer\n",
    "from sklearn.ensemble import GradientBoostingClassifier, AdaBoostClassifier\n",
    "from sklearn import svm\n",
    "\n",
    "# nltk\n",
    "from nltk.stem import WordNetLemmatizer\n",
    "from nltk.stem.porter import PorterStemmer\n",
    "from nltk.corpus import stopwords\n",
    "from nltk.tokenize import RegexpTokenizer\n",
    "\n",
    "# Regular expressions\n",
    "import regex as re\n",
    "\n",
    "# Silence FutureWarning messages\n",
    "import warnings\n",
    "warnings.simplefilter(action='ignore', category=FutureWarning)"
   ]
  },
  {
   "cell_type": "code",
   "execution_count": 2,
   "metadata": {},
   "outputs": [],
   "source": [
    "# Setting user-agent information\n",
    "headers = {'User-agent': 'python:nlp.app:v0.1.2 (by /u/fordahalibut)'}"
   ]
  },
  {
   "cell_type": "markdown",
   "metadata": {},
   "source": [
    "### 2. Function to scrape current reddit data through the API\n",
    "\n",
    "We'll make use of the `requests` library and reddit's `json` API."
   ]
  },
  {
   "cell_type": "code",
   "execution_count": 3,
   "metadata": {},
   "outputs": [],
   "source": [
    "# Function to get data from the reddit api\n",
    "def get_reddit_data(url, headers, pages, after = None):\n",
    "    # Empty list of posts\n",
    "    posts = []\n",
    "\n",
    "    # Loop through pages\n",
    "    for _ in range(pages):\n",
    "\n",
    "        # If we haven't crossed a page yet \n",
    "        if after == None:\n",
    "            params = {}\n",
    "        else:\n",
    "            params = {'after': after}\n",
    "\n",
    "        # Get json results of the first (or next) page\n",
    "        res = requests.get(url, params = params, headers = headers)\n",
    "\n",
    "        # If request was successful\n",
    "        if res.status_code == 200:\n",
    "\n",
    "            # Capture the json\n",
    "            json = res.json()\n",
    "\n",
    "            # Loop through each post in the response\n",
    "            for i in json['data']['children']:\n",
    "                post = {}\n",
    "                # Exclude the explanatory pinned posts\n",
    "                if i['data']['author'] != 'Deimorz':\n",
    "                    post['author'] = i['data']['author']\n",
    "                    post['title'] = i['data']['title']\n",
    "                    try:\n",
    "                        post['text'] = i['data']['selftext']\n",
    "                    except:\n",
    "                        post['text'] = ''\n",
    "                    post['subreddit'] = i['data']['subreddit']\n",
    "                    post['comments'] = i['data']['num_comments']\n",
    "                    post['score'] = i['data']['ups']\n",
    "                    post['id'] = i['data']['name']\n",
    "                    post['date'] = i['data']['created_utc']\n",
    "                    posts.append(post)\n",
    "\n",
    "            # Get the last post for the next request\n",
    "            after = json['data']['after']\n",
    "        else:\n",
    "            print(res.status_code)\n",
    "            break\n",
    "\n",
    "        # Pace the http requests\n",
    "        sleep(1)\n",
    "    return posts"
   ]
  },
  {
   "cell_type": "markdown",
   "metadata": {},
   "source": [
    "### 3. Function to scrape historical data\n",
    "\n",
    "We'll use the `Pushshift.io API` developed by the /r/datasets mod team. (https://github.com/pushshift/api)\n"
   ]
  },
  {
   "cell_type": "code",
   "execution_count": 4,
   "metadata": {},
   "outputs": [],
   "source": [
    "# Function to get data from the pushshift.io reddit api\n",
    "def get_pushshift_data(subreddit, before, after, size = 500):\n",
    "    \n",
    "    # Set the pushshift.io api parameters\n",
    "    params = {\n",
    "        'subreddit':  subreddit,            # Subreddit to search\n",
    "        'before':     before,               # Latest post (days)\n",
    "        'after':      after,                # Earliest post (days)\n",
    "        'size':       size                  # Size of response (between 25 and 500)\n",
    "    }\n",
    "    \n",
    "    # Empty list of posts\n",
    "    posts = []\n",
    "\n",
    "    # Get json results\n",
    "    res = requests.get('https://api.pushshift.io/reddit/search/submission/', \n",
    "                       params = params, headers = headers)\n",
    "\n",
    "    # If request was successful\n",
    "    if res.status_code == 200:\n",
    "\n",
    "        # Capture the json\n",
    "        json = res.json()\n",
    "\n",
    "        # Loop through each post in the response\n",
    "        for i in json['data']:\n",
    "            post = {}\n",
    "            # Exclude the explanatory pinned posts\n",
    "            if i['author'] != 'Deimorz':\n",
    "                post['author'] = i['author']\n",
    "                post['title'] = i['title']\n",
    "                try:\n",
    "                    post['text'] = i['selftext']\n",
    "                except:\n",
    "                    post['text'] = ''\n",
    "                post['subreddit'] = i['subreddit']\n",
    "                post['comments'] = i['num_comments']\n",
    "                post['id'] = i['id']\n",
    "                post['date'] = i['created_utc']\n",
    "                post['score'] = i['score']\n",
    "                posts.append(post)\n",
    "\n",
    "    else:\n",
    "        print(res.status_code)\n",
    "\n",
    "    return posts"
   ]
  },
  {
   "cell_type": "markdown",
   "metadata": {},
   "source": [
    "### 4. Gathering data"
   ]
  },
  {
   "cell_type": "markdown",
   "metadata": {},
   "source": [
    "Beginning with SubredditSimulator, we'll gather historical and then current posts using the functions defined above.\n",
    "\n",
    "(Commented out to prevent multiple scraping calls)"
   ]
  },
  {
   "cell_type": "code",
   "execution_count": 5,
   "metadata": {},
   "outputs": [],
   "source": [
    "# # Get one year of historical data from SubredditSimulator (via the pushshift.io api)\n",
    "# posts = []\n",
    "# for i in range(0,12):\n",
    "#     start = i * 30\n",
    "#     end = start + 30\n",
    "#     posts.extend(get_pushshift_data('SubredditSimulator', str(start)+'d', str(end)+'d'))\n",
    "#     sleep(1)\n",
    "\n",
    "# # Saving the results to a pandas dataframe\n",
    "# ss_posts1 = pd.DataFrame(posts)"
   ]
  },
  {
   "cell_type": "code",
   "execution_count": 6,
   "metadata": {},
   "outputs": [],
   "source": [
    "# # Get the 1000 most recent SubredditSimulator posts directly from the reddit api\n",
    "# url = 'https://www.reddit.com/r/SubredditSimulator/new.json'\n",
    "# ss_posts2 = pd.DataFrame(get_reddit_data(url, headers, pages = 40))"
   ]
  },
  {
   "cell_type": "code",
   "execution_count": 7,
   "metadata": {},
   "outputs": [],
   "source": [
    "# # Combine the two dataframes\n",
    "# ss_posts = pd.concat([ss_posts1, ss_posts2])"
   ]
  },
  {
   "cell_type": "markdown",
   "metadata": {},
   "source": [
    "Repeating the process for AskReddit:"
   ]
  },
  {
   "cell_type": "code",
   "execution_count": 8,
   "metadata": {},
   "outputs": [],
   "source": [
    "# # Get one year of historical data from r/AskReddit (via the pushshift.io api)\n",
    "# posts = []\n",
    "# for i in range(0,12):\n",
    "#     start = i * 30\n",
    "#     end = start + 30\n",
    "#     posts.extend(get_pushshift_data('AskReddit', str(start)+'d', str(end)+'d'))\n",
    "#     sleep(1)\n",
    "    \n",
    "# ar_posts1 = pd.DataFrame(posts)"
   ]
  },
  {
   "cell_type": "code",
   "execution_count": 9,
   "metadata": {},
   "outputs": [],
   "source": [
    "# # Get 1000 posts from the second subreddit and save to a dataframe\n",
    "# url = 'https://www.reddit.com/r/AskReddit/new.json'\n",
    "# ar_posts2 = pd.DataFrame(get_reddit_data(url, headers, pages = 40))"
   ]
  },
  {
   "cell_type": "code",
   "execution_count": 10,
   "metadata": {},
   "outputs": [],
   "source": [
    "# # Combine the two dataframes\n",
    "# ar_posts = pd.concat([ar_posts1, ar_posts2])"
   ]
  },
  {
   "cell_type": "code",
   "execution_count": 11,
   "metadata": {},
   "outputs": [],
   "source": [
    "# # Combining the two subreddit dataframes\n",
    "# df = pd.concat([ss_posts, ar_posts]).reset_index(drop = True)"
   ]
  },
  {
   "cell_type": "code",
   "execution_count": 12,
   "metadata": {},
   "outputs": [],
   "source": [
    "# len(df['id'].unique())"
   ]
  },
  {
   "cell_type": "markdown",
   "metadata": {},
   "source": [
    "> We ended up with `13990` unique posts from the two combined subreddits."
   ]
  },
  {
   "cell_type": "code",
   "execution_count": 13,
   "metadata": {},
   "outputs": [],
   "source": [
    "# # Saving the resulting dataframe to a .csv file\n",
    "# df.to_csv('../datasets/combined.csv', index = False)"
   ]
  },
  {
   "cell_type": "markdown",
   "metadata": {},
   "source": [
    "### 5. EDA and clean up"
   ]
  },
  {
   "cell_type": "code",
   "execution_count": 14,
   "metadata": {},
   "outputs": [],
   "source": [
    "# Reading back from the saved .csv above\n",
    "df = pd.read_csv('../datasets/combined.csv')"
   ]
  },
  {
   "cell_type": "code",
   "execution_count": 15,
   "metadata": {},
   "outputs": [
    {
     "name": "stdout",
     "output_type": "stream",
     "text": [
      "<class 'pandas.core.frame.DataFrame'>\n",
      "RangeIndex: 13990 entries, 0 to 13989\n",
      "Data columns (total 8 columns):\n",
      "author       13990 non-null object\n",
      "comments     13990 non-null int64\n",
      "date         13990 non-null float64\n",
      "id           13990 non-null object\n",
      "score        13990 non-null int64\n",
      "subreddit    13990 non-null object\n",
      "text         4356 non-null object\n",
      "title        13990 non-null object\n",
      "dtypes: float64(1), int64(2), object(5)\n",
      "memory usage: 874.5+ KB\n"
     ]
    }
   ],
   "source": [
    "df.info()"
   ]
  },
  {
   "cell_type": "code",
   "execution_count": 16,
   "metadata": {},
   "outputs": [],
   "source": [
    "# Converting reddit unix timestamps to pandas datetime\n",
    "df['date'] = pd.to_datetime(df['date'], unit = 's')"
   ]
  },
  {
   "cell_type": "code",
   "execution_count": 17,
   "metadata": {},
   "outputs": [],
   "source": [
    "# Appending text to the title column as individual words will be vectorized\n",
    "df['fulltext'] = df['title'] + ' ' + df['text'].fillna('')"
   ]
  },
  {
   "cell_type": "code",
   "execution_count": 18,
   "metadata": {},
   "outputs": [],
   "source": [
    "# Converting the two subreddits to binary values (SubredditSimulator = 1)\n",
    "df['subreddit'] = df['subreddit'].map(lambda x: 1 if x == 'SubredditSimulator' else 0)"
   ]
  },
  {
   "cell_type": "code",
   "execution_count": 19,
   "metadata": {},
   "outputs": [
    {
     "data": {
      "text/html": [
       "<div>\n",
       "<style scoped>\n",
       "    .dataframe tbody tr th:only-of-type {\n",
       "        vertical-align: middle;\n",
       "    }\n",
       "\n",
       "    .dataframe tbody tr th {\n",
       "        vertical-align: top;\n",
       "    }\n",
       "\n",
       "    .dataframe thead th {\n",
       "        text-align: right;\n",
       "    }\n",
       "</style>\n",
       "<table border=\"1\" class=\"dataframe\">\n",
       "  <thead>\n",
       "    <tr style=\"text-align: right;\">\n",
       "      <th></th>\n",
       "      <th>author</th>\n",
       "      <th>comments</th>\n",
       "      <th>date</th>\n",
       "      <th>id</th>\n",
       "      <th>score</th>\n",
       "      <th>subreddit</th>\n",
       "      <th>text</th>\n",
       "      <th>title</th>\n",
       "      <th>fulltext</th>\n",
       "    </tr>\n",
       "  </thead>\n",
       "  <tbody>\n",
       "    <tr>\n",
       "      <th>0</th>\n",
       "      <td>AdviceAnimals_SS</td>\n",
       "      <td>81</td>\n",
       "      <td>2018-11-17 22:58:12</td>\n",
       "      <td>9y0voo</td>\n",
       "      <td>1</td>\n",
       "      <td>1</td>\n",
       "      <td>NaN</td>\n",
       "      <td>Why would I use my disability to my 6 year old...</td>\n",
       "      <td>Why would I use my disability to my 6 year old...</td>\n",
       "    </tr>\n",
       "    <tr>\n",
       "      <th>1</th>\n",
       "      <td>all-top-today_SS</td>\n",
       "      <td>39</td>\n",
       "      <td>2018-11-18 02:58:16</td>\n",
       "      <td>9y2ln6</td>\n",
       "      <td>1</td>\n",
       "      <td>1</td>\n",
       "      <td>NaN</td>\n",
       "      <td>Unkempt long ass hair 100% of the actors that ...</td>\n",
       "      <td>Unkempt long ass hair 100% of the actors that ...</td>\n",
       "    </tr>\n",
       "    <tr>\n",
       "      <th>2</th>\n",
       "      <td>techsupport_SS</td>\n",
       "      <td>18</td>\n",
       "      <td>2018-11-18 04:58:34</td>\n",
       "      <td>9y3cva</td>\n",
       "      <td>1</td>\n",
       "      <td>1</td>\n",
       "      <td>So i let it plugged in all the problem is I do...</td>\n",
       "      <td>Connected to the latest version of windows xp?</td>\n",
       "      <td>Connected to the latest version of windows xp?...</td>\n",
       "    </tr>\n",
       "    <tr>\n",
       "      <th>3</th>\n",
       "      <td>LegalAdvice_SS</td>\n",
       "      <td>20</td>\n",
       "      <td>2018-11-18 05:58:39</td>\n",
       "      <td>9y3pu9</td>\n",
       "      <td>1</td>\n",
       "      <td>1</td>\n",
       "      <td>The parents of the curprits don't have the ser...</td>\n",
       "      <td>Anything I can do about noisy neighbors?</td>\n",
       "      <td>Anything I can do about noisy neighbors? The p...</td>\n",
       "    </tr>\n",
       "    <tr>\n",
       "      <th>4</th>\n",
       "      <td>KotakuInAction_SS</td>\n",
       "      <td>37</td>\n",
       "      <td>2018-11-18 06:58:14</td>\n",
       "      <td>9y41ns</td>\n",
       "      <td>1</td>\n",
       "      <td>1</td>\n",
       "      <td>NaN</td>\n",
       "      <td>How gamergate would have been making recently</td>\n",
       "      <td>How gamergate would have been making recently</td>\n",
       "    </tr>\n",
       "  </tbody>\n",
       "</table>\n",
       "</div>"
      ],
      "text/plain": [
       "              author  comments                date      id  score  subreddit  \\\n",
       "0   AdviceAnimals_SS        81 2018-11-17 22:58:12  9y0voo      1          1   \n",
       "1   all-top-today_SS        39 2018-11-18 02:58:16  9y2ln6      1          1   \n",
       "2     techsupport_SS        18 2018-11-18 04:58:34  9y3cva      1          1   \n",
       "3     LegalAdvice_SS        20 2018-11-18 05:58:39  9y3pu9      1          1   \n",
       "4  KotakuInAction_SS        37 2018-11-18 06:58:14  9y41ns      1          1   \n",
       "\n",
       "                                                text  \\\n",
       "0                                                NaN   \n",
       "1                                                NaN   \n",
       "2  So i let it plugged in all the problem is I do...   \n",
       "3  The parents of the curprits don't have the ser...   \n",
       "4                                                NaN   \n",
       "\n",
       "                                               title  \\\n",
       "0  Why would I use my disability to my 6 year old...   \n",
       "1  Unkempt long ass hair 100% of the actors that ...   \n",
       "2     Connected to the latest version of windows xp?   \n",
       "3           Anything I can do about noisy neighbors?   \n",
       "4      How gamergate would have been making recently   \n",
       "\n",
       "                                            fulltext  \n",
       "0  Why would I use my disability to my 6 year old...  \n",
       "1  Unkempt long ass hair 100% of the actors that ...  \n",
       "2  Connected to the latest version of windows xp?...  \n",
       "3  Anything I can do about noisy neighbors? The p...  \n",
       "4     How gamergate would have been making recently   "
      ]
     },
     "execution_count": 19,
     "metadata": {},
     "output_type": "execute_result"
    }
   ],
   "source": [
    "df.head()"
   ]
  },
  {
   "cell_type": "markdown",
   "metadata": {},
   "source": [
    "### 6. Model selection and evaluation"
   ]
  },
  {
   "cell_type": "code",
   "execution_count": 20,
   "metadata": {},
   "outputs": [],
   "source": [
    "# Setting our features and target variable\n",
    "X = df['fulltext']\n",
    "y = df['subreddit']"
   ]
  },
  {
   "cell_type": "markdown",
   "metadata": {},
   "source": [
    "> After weighing the benefits of adding other features with the performance impact of having to convert from a sparse matrix, I concluded that the model was best served by using only the `fulltext` feature."
   ]
  },
  {
   "cell_type": "code",
   "execution_count": 21,
   "metadata": {},
   "outputs": [],
   "source": [
    "# Creating a train - test split\n",
    "X_train, X_test, y_train, y_test = train_test_split(X, y, random_state = 42, stratify = y)"
   ]
  },
  {
   "cell_type": "code",
   "execution_count": 22,
   "metadata": {},
   "outputs": [],
   "source": [
    "# Constructing a pipeline to vectorize, scale, and fit a Logistic Regression model for coefficient analysis\n",
    "pipeline = Pipeline([\n",
    "    ('vect',  CountVectorizer()),    # vectorize with CountVectorizer\n",
    "    ('scale', MaxAbsScaler()),       # scale (max abs works well with sparse matrices)\n",
    "    ('model', LogisticRegression())  # select model\n",
    "])\n",
    "\n",
    "# Hyperparameters to tune\n",
    "parameters = {\n",
    "    'vect__stop_words':    [['removed', 'deleted']],           # Remove words indicating a post was removed\n",
    "    'vect__strip_accents': ['unicode'],                        # Strips accents using unicode\n",
    "    'vect__tokenizer':     [RegexpTokenizer(r'\\w+').tokenize], # Tokenizer to return only words\n",
    "    'vect__min_df':        [2],                                # Keep only words that appear at least twice\n",
    "    'model__penalty':      ['l1'],                             # Lasso Regularization\n",
    "    'model__C':            [2.0]                               # Strength of regularization\n",
    "}\n",
    "\n",
    "# Instantiate a grid search object\n",
    "lr = GridSearchCV(pipeline, parameters, cv = 5, n_jobs = -1)"
   ]
  },
  {
   "cell_type": "markdown",
   "metadata": {},
   "source": [
    "> After running multiple models (LogisticRegression, Naive Bayes, Support Vector Machine), the above parameters returned the best and most consistent results."
   ]
  },
  {
   "cell_type": "code",
   "execution_count": 23,
   "metadata": {},
   "outputs": [],
   "source": [
    "# Fit the model, gridsearching over the selected hyperparameters\n",
    "lr.fit(X_train, y_train);"
   ]
  },
  {
   "cell_type": "code",
   "execution_count": 24,
   "metadata": {},
   "outputs": [
    {
     "data": {
      "text/plain": [
       "('model',\n",
       " LogisticRegression(C=2.0, class_weight=None, dual=False, fit_intercept=True,\n",
       "           intercept_scaling=1, max_iter=100, multi_class='warn',\n",
       "           n_jobs=None, penalty='l1', random_state=None, solver='warn',\n",
       "           tol=0.0001, verbose=0, warm_start=False))"
      ]
     },
     "execution_count": 24,
     "metadata": {},
     "output_type": "execute_result"
    }
   ],
   "source": [
    "# What were the best estimators?\n",
    "lr.best_estimator_.steps[2]"
   ]
  },
  {
   "cell_type": "markdown",
   "metadata": {},
   "source": [
    "> Running the above cells multiple times helped to hone in on the correct model and hyperparameters."
   ]
  },
  {
   "cell_type": "code",
   "execution_count": 25,
   "metadata": {},
   "outputs": [
    {
     "data": {
      "text/plain": [
       "0.9821768966831872"
      ]
     },
     "execution_count": 25,
     "metadata": {},
     "output_type": "execute_result"
    }
   ],
   "source": [
    "# Score on training data\n",
    "lr.score(X_train, y_train)"
   ]
  },
  {
   "cell_type": "code",
   "execution_count": 26,
   "metadata": {},
   "outputs": [
    {
     "data": {
      "text/plain": [
       "0.9162378502001144"
      ]
     },
     "execution_count": 26,
     "metadata": {},
     "output_type": "execute_result"
    }
   ],
   "source": [
    "# Evaluate the model\n",
    "lr.score(X_test, y_test)"
   ]
  },
  {
   "cell_type": "markdown",
   "metadata": {},
   "source": [
    "> Logistic Regression performed the best out of the models tried, and has the added benefit of allowing us to examine the coefficients of our features."
   ]
  },
  {
   "cell_type": "markdown",
   "metadata": {},
   "source": [
    "### 7. Feature correlations"
   ]
  },
  {
   "cell_type": "code",
   "execution_count": 27,
   "metadata": {},
   "outputs": [],
   "source": [
    "# Getting scaled frequency counts for each word in each subreddit\n",
    "vect = lr.best_estimator_.steps[0][1]\n",
    "vals = pd.DataFrame(vect.transform(X_train).todense(), columns = vect.get_feature_names())"
   ]
  },
  {
   "cell_type": "code",
   "execution_count": 28,
   "metadata": {},
   "outputs": [
    {
     "data": {
      "text/plain": [
       "the     10296\n",
       "to       7658\n",
       "a        7102\n",
       "i        6584\n",
       "you      5701\n",
       "and      5207\n",
       "of       5085\n",
       "what     4341\n",
       "in       3887\n",
       "is       3432\n",
       "it       3256\n",
       "that     2883\n",
       "for      2554\n",
       "my       2396\n",
       "s        2352\n",
       "on       2089\n",
       "have     1974\n",
       "your     1963\n",
       "do       1947\n",
       "with     1881\n",
       "this     1823\n",
       "was      1678\n",
       "t        1569\n",
       "are      1549\n",
       "be       1491\n",
       "dtype: int64"
      ]
     },
     "execution_count": 28,
     "metadata": {},
     "output_type": "execute_result"
    }
   ],
   "source": [
    "# What are the 25 most frequent words?\n",
    "vals.sum().sort_values(ascending = False)[:25]"
   ]
  },
  {
   "cell_type": "code",
   "execution_count": 75,
   "metadata": {
    "scrolled": false
   },
   "outputs": [
    {
     "data": {
      "image/png": "[encoded data removed]",
      "text/plain": [
       "<Figure size 576x720 with 1 Axes>"
      ]
     },
     "metadata": {
      "needs_background": "light"
     },
     "output_type": "display_data"
    }
   ],
   "source": [
    "# Plotting the most strongly correlated features (words) in relation to our target\n",
    "fig, ax = plt.subplots(figsize = (8,10))\n",
    "feats = pd.DataFrame(lr.best_estimator_.steps[2][1].coef_, \n",
    "                     columns=lr.best_estimator_.steps[0][1].get_feature_names())\n",
    "feats.loc[0,feats.iloc[0,:].abs() >7].plot(kind='barh')\n",
    "ax.set_title('Strongest word correlations with SubredditSimulator')\n",
    "ax.set_xlabel('Correlation coefficient');"
   ]
  },
  {
   "cell_type": "markdown",
   "metadata": {},
   "source": [
    "> Interestingly, and unsurprisingly, 'question' words (such as 'who', 'why', 'how', 'which', and 'what') were strongly associated with the AskReddit subreddit. "
   ]
  },
  {
   "cell_type": "markdown",
   "metadata": {},
   "source": [
    "### 8. Word Cloud representations using Tableau\n",
    "\n",
    "Word clouds are a good way to visually compare the most frequently occurring words between the two subreddits. First we'll need to restructure our data to isolate individual words and the frequencies at which they occur in the dataset."
   ]
  },
  {
   "cell_type": "code",
   "execution_count": 30,
   "metadata": {},
   "outputs": [],
   "source": [
    "# Adding target back to the word frequency dataframe\n",
    "vals['subreddit_target'] = y_train\n",
    "\n",
    "# SubredditSimulator (scaled) word counts\n",
    "ss_vals = pd.DataFrame(vals[vals['subreddit_target'] == 1].sum(axis = 0), columns = ['count'])\n",
    "ss_vals['word'] = ss_vals.index\n",
    "\n",
    "# AskReddit (scaled) word counts\n",
    "ar_vals = pd.DataFrame(vals[vals['subreddit_target'] == 0].sum(axis = 0), columns = ['count'])\n",
    "ar_vals['word'] = ar_vals.index"
   ]
  },
  {
   "cell_type": "markdown",
   "metadata": {},
   "source": [
    "For visual representation, we'll filter out common stop words using NLTK's stop words list."
   ]
  },
  {
   "cell_type": "code",
   "execution_count": 31,
   "metadata": {},
   "outputs": [],
   "source": [
    "# Getting nltk english stop words\n",
    "stops = set(stopwords.words('english'))"
   ]
  },
  {
   "cell_type": "code",
   "execution_count": 32,
   "metadata": {},
   "outputs": [],
   "source": [
    "# Filtering out the identified stop words\n",
    "ss_vals = ss_vals.loc[[word for word in ss_vals['word'] if not word in stops]]\n",
    "ar_vals = ar_vals.loc[[word for word in ar_vals['word'] if not word in stops]]"
   ]
  },
  {
   "cell_type": "code",
   "execution_count": 33,
   "metadata": {},
   "outputs": [],
   "source": [
    "# Saving the value counts to .csv for use in Tableau\n",
    "ss_vals.to_csv('../datasets/ss_word_counts.csv', index = False)\n",
    "ar_vals.to_csv('../datasets/ar_word_counts.csv', index = False)"
   ]
  },
  {
   "cell_type": "markdown",
   "metadata": {},
   "source": [
    "Word Cloud Filters:\n",
    "- Frequency >= 5\n",
    "- Common words (i.e. 'reddit', 'redditors') filtered out"
   ]
  },
  {
   "cell_type": "code",
   "execution_count": 35,
   "metadata": {},
   "outputs": [
    {
     "data": {
      "text/html": [
       "<div class='tableauPlaceholder' id='viz1545322812045' style='position: relative'><noscript><a href='#'><img alt=' ' src='https:&#47;&#47;public.tableau.com&#47;static&#47;images&#47;Re&#47;RedditNLPProject_0&#47;Dashboard&#47;1_rss.png' style='border: none' /></a></noscript><object class='tableauViz'  style='display:none;'><param name='host_url' value='https%3A%2F%2Fpublic.tableau.com%2F' /> <param name='embed_code_version' value='3' /> <param name='site_root' value='' /><param name='name' value='RedditNLPProject_0&#47;Dashboard' /><param name='tabs' value='no' /><param name='toolbar' value='yes' /><param name='static_image' value='https:&#47;&#47;public.tableau.com&#47;static&#47;images&#47;Re&#47;RedditNLPProject_0&#47;Dashboard&#47;1.png' /> <param name='animate_transition' value='yes' /><param name='display_static_image' value='yes' /><param name='display_spinner' value='yes' /><param name='display_overlay' value='yes' /><param name='display_count' value='yes' /><param name='filter' value='publish=yes' /></object></div>                <script type='text/javascript'>                    var divElement = document.getElementById('viz1545322812045');                    var vizElement = divElement.getElementsByTagName('object')[0];                    vizElement.style.minWidth='420px';vizElement.style.maxWidth='650px';vizElement.style.width='100%';vizElement.style.minHeight='587px';vizElement.style.maxHeight='887px';vizElement.style.height=(divElement.offsetWidth*0.75)+'px';                    var scriptElement = document.createElement('script');                    scriptElement.src = 'https://public.tableau.com/javascripts/api/viz_v1.js';                    vizElement.parentNode.insertBefore(scriptElement, vizElement);                </script>\n"
      ],
      "text/plain": [
       "<IPython.core.display.HTML object>"
      ]
     },
     "metadata": {},
     "output_type": "display_data"
    }
   ],
   "source": [
    "%%html\n",
    "<div class='tableauPlaceholder' id='viz1545322812045' style='position: relative'><noscript><a href='#'><img alt=' ' src='https:&#47;&#47;public.tableau.com&#47;static&#47;images&#47;Re&#47;RedditNLPProject_0&#47;Dashboard&#47;1_rss.png' style='border: none' /></a></noscript><object class='tableauViz'  style='display:none;'><param name='host_url' value='https%3A%2F%2Fpublic.tableau.com%2F' /> <param name='embed_code_version' value='3' /> <param name='site_root' value='' /><param name='name' value='RedditNLPProject_0&#47;Dashboard' /><param name='tabs' value='no' /><param name='toolbar' value='yes' /><param name='static_image' value='https:&#47;&#47;public.tableau.com&#47;static&#47;images&#47;Re&#47;RedditNLPProject_0&#47;Dashboard&#47;1.png' /> <param name='animate_transition' value='yes' /><param name='display_static_image' value='yes' /><param name='display_spinner' value='yes' /><param name='display_overlay' value='yes' /><param name='display_count' value='yes' /><param name='filter' value='publish=yes' /></object></div>                <script type='text/javascript'>                    var divElement = document.getElementById('viz1545322812045');                    var vizElement = divElement.getElementsByTagName('object')[0];                    vizElement.style.minWidth='420px';vizElement.style.maxWidth='650px';vizElement.style.width='100%';vizElement.style.minHeight='587px';vizElement.style.maxHeight='887px';vizElement.style.height=(divElement.offsetWidth*0.75)+'px';                    var scriptElement = document.createElement('script');                    scriptElement.src = 'https://public.tableau.com/javascripts/api/viz_v1.js';                    vizElement.parentNode.insertBefore(scriptElement, vizElement);                </script>\n"
   ]
  },
  {
   "cell_type": "markdown",
   "metadata": {},
   "source": [
    "> `AskReddit` has overall fewer but more frequent words than `SubredditSimulator`. "
   ]
  },
  {
   "cell_type": "markdown",
   "metadata": {},
   "source": [
    "### 9. Investigating occurence of common stop words in each subreddit\n",
    "\n",
    "While using GridSearch to tune the hyperparameters in the model above, I noticed that including the `nltk stopwords.words('english')` list, accuracy of the model decreased. I decided to see how a model would perform when only using these stopwords, minus some of the 'question' words identified above."
   ]
  },
  {
   "cell_type": "code",
   "execution_count": 36,
   "metadata": {},
   "outputs": [],
   "source": [
    "# Hyperparameters to tune\n",
    "lr_params = {\n",
    "    'penalty': ['l1', 'l2'],\n",
    "    'C':       [1.0, 2.0, 3.0, 4.0]\n",
    "}\n",
    "\n",
    "# Instantiate a GridSearch over hyperparameters of a logistic regression model\n",
    "cv = GridSearchCV(LogisticRegression(), lr_params, cv = 5, n_jobs = -1)"
   ]
  },
  {
   "cell_type": "code",
   "execution_count": 37,
   "metadata": {},
   "outputs": [],
   "source": [
    "# Redefining and refining our list of stopwords to exclude common 'question' words\n",
    "stops = stopwords.words('english')\n",
    "questions = ['who', 'what', 'where', 'when', 'why', 'how']\n",
    "stops = set([word for word in stops if not word in questions])"
   ]
  },
  {
   "cell_type": "code",
   "execution_count": 38,
   "metadata": {},
   "outputs": [],
   "source": [
    "# Defining our train dataset using the already vectorized 'vals' dataframe\n",
    "train_stops = vals.loc[:,[word for word in stops]]\n",
    "\n",
    "# Filling in missing frequencies of stop words not included in the data\n",
    "train_stops.fillna(0, inplace = True)\n",
    "\n",
    "# Defining our test dataset\n",
    "test_stops = pd.DataFrame(vect.transform(X_test).todense(), \n",
    "                          columns = vect.get_feature_names()).loc[:, [word for word in stops]]\n",
    "\n",
    "# Filling in missing frequencies of stop words not included in the data\n",
    "test_stops.fillna(0, inplace = True)\n",
    "\n",
    "# Fitting our model\n",
    "cv.fit(train_stops, y_train);"
   ]
  },
  {
   "cell_type": "code",
   "execution_count": 39,
   "metadata": {},
   "outputs": [
    {
     "data": {
      "text/plain": [
       "0.8536027449485322"
      ]
     },
     "execution_count": 39,
     "metadata": {},
     "output_type": "execute_result"
    }
   ],
   "source": [
    "# Score against train\n",
    "cv.score(train_stops, y_train)"
   ]
  },
  {
   "cell_type": "code",
   "execution_count": 40,
   "metadata": {},
   "outputs": [
    {
     "data": {
      "text/plain": [
       "0.8570611778158947"
      ]
     },
     "execution_count": 40,
     "metadata": {},
     "output_type": "execute_result"
    }
   ],
   "source": [
    "# Score against test\n",
    "cv.score(test_stops, y_test)"
   ]
  },
  {
   "cell_type": "markdown",
   "metadata": {},
   "source": [
    "> Using only stopwords (excluding common question words that we've already seen are strongly correlated with the `AskReddit` subreddit, we still achieve a surprisingly high accuracy score that is remarkably consistent across both train and test datasets, indicating we're not overfitting."
   ]
  },
  {
   "cell_type": "code",
   "execution_count": 41,
   "metadata": {},
   "outputs": [
    {
     "data": {
      "image/png": "[encoded data removed]",
      "text/plain": [
       "<Figure size 576x720 with 1 Axes>"
      ]
     },
     "metadata": {
      "needs_background": "light"
     },
     "output_type": "display_data"
    }
   ],
   "source": [
    "# Repeating the word correlation plot from above with the new model\n",
    "fig, ax = plt.subplots(figsize = (8,10))\n",
    "feats = pd.DataFrame(cv.best_estimator_.coef_, \n",
    "                     columns=train_stops.columns)\n",
    "feats.loc[0,feats.iloc[0,:].abs() >1].plot(kind='barh')\n",
    "ax.set_title('Strongest stop word correlations with SubredditSimulator')\n",
    "ax.set_xlabel('Correlation coefficient');"
   ]
  },
  {
   "cell_type": "markdown",
   "metadata": {},
   "source": [
    "> There seems to be a very interesting correlation between first-, second- and third-person words between these two subreddits. In general, `AskReddit` has higher frequencies of second-person words, while `SubredditSimulator` his higher frequencies of first- and third-person words."
   ]
  },
  {
   "cell_type": "markdown",
   "metadata": {},
   "source": [
    "### 10. Conclusion\n",
    "\n",
    "The very high accuracy of a logistic regression model implies that we can quite easily distinguish between these two subreddits using only bag of words methods. Upon reflection, perhaps `AskReddit` isn't as good of a stand-in for a general topic forum as hoped. \n",
    "\n",
    "Given more time, I would instead take a sampling of each individual subreddit that `SubredditSimulator` pulls from, to get a more equivalent corpus of words."
   ]
  },
  {
   "cell_type": "code",
   "execution_count": null,
   "metadata": {},
   "outputs": [],
   "source": []
  }
 ],
 "metadata": {
  "kernelspec": {
   "display_name": "Python [conda env:anaconda3]",
   "language": "python",
   "name": "conda-env-anaconda3-py"
  },
  "language_info": {
   "codemirror_mode": {
    "name": "ipython",
    "version": 3
   },
   "file_extension": ".py",
   "mimetype": "text/x-python",
   "name": "python",
   "nbconvert_exporter": "python",
   "pygments_lexer": "ipython3",
   "version": "3.6.6"
  }
 },
 "nbformat": 4,
 "nbformat_minor": 2
}
